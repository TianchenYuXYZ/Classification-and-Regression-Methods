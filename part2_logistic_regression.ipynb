{
 "cells": [
  {
   "cell_type": "code",
   "execution_count": null,
   "metadata": {},
   "outputs": [],
   "source": [
    "# ADD YOUR ACADEMIC INTERGITY STATEMENT HERE AS A COMMENT BLOCK BELOW. CHECK IMPORTANT NOTE FOR MORE DETAILS.\n",
    "\n",
    "\n",
    "\n",
    "I certify that the code and data in this assignment were generated independently, \n",
    "using only the tools and resources defined in the course and that I did not receive any external help, \n",
    "coaching or contributions during the production of this work.\n",
    "\n",
    "\n",
    "\n",
    "\n",
    "# END OF YOUR ACADEMIC INTERGITY STATEMENT"
   ]
  },
  {
   "cell_type": "code",
   "execution_count": null,
   "metadata": {
    "colab": {
     "base_uri": "https://localhost:8080/",
     "height": 57
    },
    "executionInfo": {
     "elapsed": 12,
     "status": "ok",
     "timestamp": 1646271411895,
     "user": {
      "displayName": "Zhihe Shi",
      "photoUrl": "https://lh3.googleusercontent.com/a-/AOh14Gi_WcjO-hB88lc6RvBidr4Pl87mhZfzWJbmio7W=s64",
      "userId": "12148847837024599678"
     },
     "user_tz": 300
    },
    "id": "TLX8QC7fauRj",
    "outputId": "2996c2e3-ef3c-4b4f-d37d-155934a10c48"
   },
   "outputs": [
    {
     "data": {
      "application/vnd.google.colaboratory.intrinsic+json": {
       "type": "string"
      },
      "text/plain": [
       "'\\nPart 2: Logistic Regression\\n'"
      ]
     },
     "execution_count": 1,
     "metadata": {},
     "output_type": "execute_result"
    }
   ],
   "source": [
    "'''\n",
    "Part 2: Logistic Regression\n",
    "'''"
   ]
  },
  {
   "cell_type": "code",
   "execution_count": 1,
   "metadata": {
    "colab": {
     "base_uri": "https://localhost:8080/"
    },
    "executionInfo": {
     "elapsed": 21660,
     "status": "ok",
     "timestamp": 1646448541179,
     "user": {
      "displayName": "Zhihe Shi",
      "photoUrl": "https://lh3.googleusercontent.com/a-/AOh14Gi_WcjO-hB88lc6RvBidr4Pl87mhZfzWJbmio7W=s64",
      "userId": "12148847837024599678"
     },
     "user_tz": 300
    },
    "id": "3w4porKlbdzG",
    "outputId": "c4548e7c-dfd9-4429-8c74-6f7f83efd28a"
   },
   "outputs": [
    {
     "name": "stdout",
     "output_type": "stream",
     "text": [
      "Mounted at /content/drive\n",
      "/\n",
      "/content/drive/MyDrive/Colab Notebooks/cse574_intro_machine_learning/assignment2\n",
      " Amazon_top_selling_book.csv\n",
      " breast_cancer_wisconsin.csv\n",
      " diamonds.csv\n",
      " netflix_titles.csv\n",
      " part2_logistic_regression.ipynb\n",
      "'Part I Data Analysis Amazon Top Selling Book dataset, Netflix dataset, Penguin dataset.ipynb'\n",
      " penguins.csv\n",
      " spring22_cse574_cd_Assignment_2_ver2.pdf\n",
      " titanic.csv\n",
      " winequality-red.csv\n"
     ]
    }
   ],
   "source": [
    "from google.colab import drive\n",
    "drive.mount('/content/drive')\n",
    "%cd ..\n",
    "%cd /content/drive/MyDrive/Colab\\ Notebooks/cse574_intro_machine_learning/assignment2/\n",
    "!ls"
   ]
  },
  {
   "cell_type": "code",
   "execution_count": 19,
   "metadata": {
    "colab": {
     "base_uri": "https://localhost:8080/",
     "height": 768
    },
    "executionInfo": {
     "elapsed": 8406,
     "status": "ok",
     "timestamp": 1646453846326,
     "user": {
      "displayName": "Zhihe Shi",
      "photoUrl": "https://lh3.googleusercontent.com/a-/AOh14Gi_WcjO-hB88lc6RvBidr4Pl87mhZfzWJbmio7W=s64",
      "userId": "12148847837024599678"
     },
     "user_tz": 300
    },
    "id": "PWMH6go_b7W3",
    "outputId": "88e7762b-47bb-4859-f786-bed546293db4"
   },
   "outputs": [
    {
     "name": "stdout",
     "output_type": "stream",
     "text": [
      "Cost after iteration 0 is 0.933290\n",
      "Cost after iteration 5000 is 0.932318\n",
      "Cost after iteration 10000 is 0.931349\n",
      "Cost after iteration 15000 is 0.930382\n",
      "Cost after iteration 20000 is 0.929416\n",
      "Cost after iteration 25000 is 0.928453\n",
      "Cost after iteration 30000 is 0.927492\n",
      "Cost after iteration 35000 is 0.926533\n",
      "Cost after iteration 40000 is 0.925576\n",
      "Cost after iteration 45000 is 0.924621\n",
      "Cost after iteration 50000 is 0.923668\n",
      "Cost after iteration 55000 is 0.922717\n",
      "Cost after iteration 60000 is 0.921768\n",
      "Cost after iteration 65000 is 0.920821\n",
      "Cost after iteration 70000 is 0.919876\n",
      "Cost after iteration 75000 is 0.918934\n",
      "Cost after iteration 80000 is 0.917993\n",
      "Cost after iteration 85000 is 0.917054\n",
      "Cost after iteration 90000 is 0.916118\n",
      "Cost after iteration 95000 is 0.915183\n"
     ]
    },
    {
     "data": {
      "text/plain": [
       "{'W': array([[0.98704615],\n",
       "        [0.98772263],\n",
       "        [0.98453735],\n",
       "        [0.98884714]]),\n",
       " 'accuracy_test': 0.7692307692307692,\n",
       " 'accuracy_train': 0.7105263157894737,\n",
       " 'b': -0.03495479381262566,\n",
       " 'iteration_nums': 100000,\n",
       " 'learning_rate': 1e-06}"
      ]
     },
     "execution_count": 19,
     "metadata": {},
     "output_type": "execute_result"
    },
    {
     "data": {
      "image/png": "[encoded data removed]",
      "text/plain": [
       "<Figure size 432x288 with 1 Axes>"
      ]
     },
     "metadata": {
      "needs_background": "light"
     },
     "output_type": "display_data"
    }
   ],
   "source": [
    "import matplotlib.pyplot as plt\n",
    "import numpy as np\n",
    "import pandas as pd\n",
    "\n",
    "class LogitRegression:\n",
    "\n",
    "  # Preprocessing data to X_train, Y_train, X_test and Y_test\n",
    "  def preprocessing(self):\n",
    "    df = pd.read_csv(\"penguins.csv\") # Read penguins.csv file\n",
    "    df = pd.DataFrame(df)\n",
    "    df = df[df.sex.notnull()] # Delete rows without sex\n",
    "\n",
    "    # Change 5 data columns to list\n",
    "    b_len_list = df['bill_length_mm'].tolist()\n",
    "    b_depth_list = df['bill_depth_mm'].tolist()\n",
    "    f_len_list = df['flipper_length_mm'].tolist()\n",
    "    b_mass_list = df['body_mass_g'].tolist()\n",
    "    sex_list = df['sex'].tolist()\n",
    "\n",
    "    # Get largest element of every list\n",
    "    b_len_list_max = max(b_len_list)\n",
    "    b_depth_list_max = max(b_depth_list)\n",
    "    f_len_list_max = max(f_len_list)\n",
    "    b_mass_list_max = max(b_mass_list)\n",
    "\n",
    "    # Get smallest element of every list\n",
    "    b_len_list_min = min(b_len_list)\n",
    "    b_depth_list_min = min(b_depth_list)\n",
    "    f_len_list_min = min(f_len_list)\n",
    "    b_mass_list_min = min(b_mass_list)\n",
    "\n",
    "    # Randomly sort each list with same random index\n",
    "    shuffle_indices = np.random.permutation(np.arange(333))\n",
    "    \n",
    "    # Scale data to range 0 to 1\n",
    "    b_len = (np.array(b_len_list) - b_len_list_min) / (b_len_list_max - b_len_list_min)\n",
    "    b_depth = (np.array(b_depth_list) - b_depth_list_min) / (b_depth_list_max - b_depth_list_min)\n",
    "    f_len = (np.array(f_len_list) - f_len_list_min) / (f_len_list_max - f_len_list_min)\n",
    "    b_mass = (np.array(b_mass_list) - b_mass_list_min) / (b_mass_list_max - b_mass_list_min)\n",
    "\n",
    "    # Randomly sort each list\n",
    "    b_len = b_len[shuffle_indices]\n",
    "    b_depth = b_depth[shuffle_indices]\n",
    "    f_len = f_len[shuffle_indices]\n",
    "    b_mass = b_mass[shuffle_indices]\n",
    "\n",
    " \n",
    "    \n",
    "    # Concatenate four arrays into one array X_train, using 80% of all data\n",
    "    X_train = np.vstack((b_len[0:266], b_depth[0:266], f_len[0:266], b_mass[0:266]))\n",
    "    # Build X_test using 20% of all data for test purpose\n",
    "    X_test = np.vstack((b_len[267:332], b_depth[267:332], f_len[267:332], b_mass[267:332]))\n",
    "    #print(np.shape(X))\n",
    "\n",
    "    # Change sex to 0 and 1 data\n",
    "    Y = [] # Target\n",
    "    for i in range(len(sex_list)):\n",
    "      if sex_list[i] == 'female':\n",
    "        Y.append(0)\n",
    "      elif sex_list[i] == 'male':\n",
    "        Y.append(1)\n",
    "    \n",
    "    # Randomly sort Y\n",
    "    Y = np.array(Y)\n",
    "    Y = Y[shuffle_indices]\n",
    "    \n",
    "    # Divide Y data into 80% and 20%\n",
    "    Y_train = np.array(Y[0:266])\n",
    "    Y_test = np.array(Y[267:332])\n",
    "\n",
    "    #print('X_train:',np.shape(X_train))\n",
    "    #print('X_test:',np.shape(X_test))\n",
    "    return X_train, Y_train, X_test, Y_test\n",
    "\n",
    "  # __init__ function\n",
    "  def __init__(self, learning_rate, iteration_num) -> None:\n",
    "    self.learning_rate = learning_rate\n",
    "    self.iteration_num = iteration_num\n",
    "\n",
    "  def sigmoid(self, z):\n",
    "    theta = 1 / (1 + np.exp(-z))\n",
    "    return theta\n",
    "\n",
    "  def propagate(self, w, b, X, Y):\n",
    "    n = X.shape[1] # Number of samples\n",
    "\n",
    "    # Forward propagate\n",
    "    h = self.sigmoid(np.dot(w.T, X) + b)\n",
    "    cost = - (np.sum(Y * np.log(h) + (1 - Y) * np.log(1 - h))) / n\n",
    "\n",
    "    # Back propagate\n",
    "    #print(np.shape(h), np.shape(Y))\n",
    "    dZ = h - Y\n",
    "    dw = (np.dot(X, dZ.T)) / n\n",
    "    db = (np.sum(dZ)) / n\n",
    "    #print('dz:',np.shape(dZ))\n",
    "\n",
    "    # Return value\n",
    "    return dw, db, cost\n",
    "\n",
    "  def fit(self, w, b, X, Y, iteration_num, learning_rate):\n",
    "    costs = [] # Store all costs\n",
    "    ite_times = [] # Store iteration times\n",
    "    # Iterate to get satisfied w and b\n",
    "    for i in range(iteration_num):\n",
    "      dw, db, cost = self.propagate(w, b, X, Y)\n",
    "\n",
    "      # Use gradient descent to update w and b\n",
    "      w = w - learning_rate * dw\n",
    "      b = b - learning_rate * db\n",
    "\n",
    "      # Print cost every 5000 iterations\n",
    "      if i % 5000 == 0:\n",
    "        costs.append(cost)\n",
    "        ite_times.append(i)\n",
    "        print('Cost after iteration %i is %f' %(i, cost))\n",
    "    plt.plot(ite_times, costs)\n",
    "    return w, b, dw, db\n",
    "\n",
    "  def predict(self, w, b, X):\n",
    "    n = X.shape[1]\n",
    "    Y_prediction = np.zeros((1, n))\n",
    "\n",
    "    h = self.sigmoid(np.dot(w.T, X) + b)\n",
    "    for i in range(n):\n",
    "      #print('h[0, i]:',h)\n",
    "      if h[0, i] > 0.85:\n",
    "        Y_prediction[0, i] = 1\n",
    "      else:\n",
    "        Y_prediction[0, i] = 0\n",
    "    return Y_prediction\n",
    "  \n",
    "  def logistic_model(self, learning_rate, iteration_nums):\n",
    "    X_train, Y_train, X_test, Y_test = self.preprocessing() # Get input data\n",
    "    dim = X_train.shape[0]\n",
    "    W = np.ones((4, 1)) # Set initial W as [1, 1, 1, 1]\n",
    "    b = 0\n",
    "\n",
    "    # Call fit() function to acquire W and b after certain iterations\n",
    "    W, b, dw, db = self.fit(W, b, X_train, Y_train, iteration_nums, learning_rate)\n",
    "\n",
    "    # Call predict() function to get prediction value\n",
    "    prediction_train = self.predict(W, b, X_train)\n",
    "    prediction_test = self.predict(W, b, X_test)\n",
    "\n",
    "    # Get train accuracy and test accuracy by calculating mean\n",
    "    accuracy_train = 1 - np.mean(np.abs(prediction_train - Y_train))\n",
    "    accuracy_test = 1 - np.mean(np.abs(prediction_test - Y_test))\n",
    "    #print(\"accuracy_train:\",accuracy_train)\n",
    "    #print(\"accuracy_test:\",accuracy_test)\n",
    "\n",
    "    res = {\"accuracy_train\": accuracy_train,\n",
    "         \"accuracy_test\": accuracy_test,\n",
    "         \"learning_rate\": learning_rate,\n",
    "         \"iteration_nums\": iteration_nums,\n",
    "         \"W\" : W,\n",
    "         \"b\" : b\n",
    "        }\n",
    "    \n",
    "    # Return the result as a dictionary which stores all relevant values\n",
    "    return res\n",
    "\n",
    "# Set learning rate and iteration times\n",
    "learning_rate = 0.000001\n",
    "iteration_num = 100000\n",
    "\n",
    "# Call class\n",
    "model = LogitRegression(learning_rate, iteration_num)\n",
    "model.logistic_model(learning_rate, iteration_num)"
   ]
  }
 ],
 "metadata": {
  "colab": {
   "collapsed_sections": [],
   "name": "part2_logistic_regression.ipynb",
   "provenance": []
  },
  "kernelspec": {
   "display_name": "Python 3 (ipykernel)",
   "language": "python",
   "name": "python3"
  },
  "language_info": {
   "codemirror_mode": {
    "name": "ipython",
    "version": 3
   },
   "file_extension": ".py",
   "mimetype": "text/x-python",
   "name": "python",
   "nbconvert_exporter": "python",
   "pygments_lexer": "ipython3",
   "version": "3.9.7"
  }
 },
 "nbformat": 4,
 "nbformat_minor": 1
}
